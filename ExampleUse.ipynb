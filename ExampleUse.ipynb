{
  "cells": [
    {
      "cell_type": "markdown",
      "id": "4f715b64-5224-4cf4-be0a-b7554f10c3af",
      "metadata": {},
      "source": [
        "Import Dependencies"
      ]
    },
    {
      "cell_type": "code",
      "execution_count": 1,
      "id": "a272c86a-f202-4d74-b9b2-62d4213663bb",
      "metadata": {
        "trusted": true
      },
      "outputs": [],
      "source": [
        "from NNStockPredictor import StockPredictor"
      ]
    },
    {
      "cell_type": "markdown",
      "id": "fca6a478-0b7d-4442-a586-503e9e2f5a22",
      "metadata": {},
      "source": [
        "Choose a Symbol"
      ]
    },
    {
      "cell_type": "code",
      "execution_count": 2,
      "id": "95870a7b-530e-43b2-9060-02923aad9181",
      "metadata": {
        "trusted": true
      },
      "outputs": [],
      "source": [
        "symbol = 'SPY'"
      ]
    },
    {
      "cell_type": "markdown",
      "id": "c8efa029-362c-4e6c-af67-cdd15e1490e6",
      "metadata": {},
      "source": [
        "Create the 'StockPredictor' object and run"
      ]
    },
    {
      "cell_type": "code",
      "execution_count": 3,
      "id": "a20b5b2c-f9a4-487f-a316-795af72c4153",
      "metadata": {
        "trusted": true
      },
      "outputs": [
        {
          "name": "stderr",
          "output_type": "stream",
          "text": [
            "[*********************100%***********************]  1 of 1 completed\n",
            "[*********************100%***********************]  1 of 1 completed\n",
            "[*********************100%***********************]  1 of 1 completed"
          ]
        },
        {
          "name": "stdout",
          "output_type": "stream",
          "text": [
            "Predicted slope for the next 16 points: [[0.36699267]]\n"
          ]
        },
        {
          "name": "stderr",
          "output_type": "stream",
          "text": [
            "\n"
          ]
        }
      ],
      "source": [
        "sp = StockPredictor(symbol)\n",
        "sp.run()"
      ]
    },
    {
      "cell_type": "markdown",
      "id": "99bb49a6-f66f-474c-b156-364acc492cd6",
      "metadata": {},
      "source": [
        "Utilize other functions for training. Use plot_loss to ensure training never flattens."
      ]
    },
    {
      "cell_type": "code",
      "execution_count": 4,
      "id": "f3ba5433-b7ab-4271-8b99-c9e7a71a9e98",
      "metadata": {
        "trusted": true
      },
      "outputs": [
        {
          "data": {
            "image/png": "[encoded data removed]",
            "text/plain": [
              "<Figure size 640x480 with 1 Axes>"
            ]
          },
          "metadata": {},
          "output_type": "display_data"
        }
      ],
      "source": [
        "sp.plot_loss()"
      ]
    },
    {
      "cell_type": "markdown",
      "id": "1955389c-6c2c-4e26-9b6d-96164882abf9",
      "metadata": {},
      "source": [
        "Or print_training_statistics to see what is being used to tune the model"
      ]
    },
    {
      "cell_type": "code",
      "execution_count": 5,
      "id": "7c9c6975-22b1-44a7-a848-0592f41b1b6f",
      "metadata": {
        "trusted": true
      },
      "outputs": [
        {
          "name": "stdout",
          "output_type": "stream",
          "text": [
            "Learning rate:  0.1\n",
            "Iterations:  10000\n",
            "Hidden Nodes:  32\n"
          ]
        }
      ],
      "source": [
        "sp.print_training_statistics()"
      ]
    },
    {
      "cell_type": "markdown",
      "id": "c6ec8fec-2c95-4210-b840-24134607cbab",
      "metadata": {},
      "source": [
        "Tune the model by changing the inputs to the class call"
      ]
    },
    {
      "cell_type": "code",
      "execution_count": 6,
      "id": "b4887bcb-7491-4974-8b85-975c97a8ccdc",
      "metadata": {
        "trusted": true
      },
      "outputs": [
        {
          "name": "stderr",
          "output_type": "stream",
          "text": [
            "[*********************100%***********************]  1 of 1 completed\n",
            "[*********************100%***********************]  1 of 1 completed\n",
            "[*********************100%***********************]  1 of 1 completed"
          ]
        },
        {
          "name": "stdout",
          "output_type": "stream",
          "text": [
            "Predicted slope for the next 16 points: [[-0.09441483]]\n"
          ]
        },
        {
          "name": "stderr",
          "output_type": "stream",
          "text": [
            "\n"
          ]
        }
      ],
      "source": [
        "sp = StockPredictor(symbol, lr=0.2, epochs=15000, hn=60)\n",
        "sp.run()"
      ]
    }
  ],
  "metadata": {
    "kernelspec": {
      "display_name": "3.9.2",
      "language": "python",
      "name": "python3"
    },
    "language_info": {
      "codemirror_mode": {
        "name": "ipython",
        "version": 3
      },
      "file_extension": ".py",
      "mimetype": "text/x-python",
      "name": "python",
      "nbconvert_exporter": "python",
      "pygments_lexer": "ipython3",
      "version": "3.9.2"
    }
  },
  "nbformat": 4,
  "nbformat_minor": 5
}
